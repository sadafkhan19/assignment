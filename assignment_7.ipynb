{
 "cells": [
  {
   "cell_type": "code",
   "execution_count": 2,
   "metadata": {},
   "outputs": [
    {
     "name": "stdout",
     "output_type": "stream",
     "text": [
      "P(A): 0.3055555555555556\n",
      "P(B): 0.16666666666666666\n",
      "P(C): 0.05555555555555555\n"
     ]
    },
    {
     "data": {
      "text/plain": [
       "0.0303030303030303"
      ]
     },
     "execution_count": 2,
     "metadata": {},
     "output_type": "execute_result"
    }
   ],
   "source": [
    "# Question 1\n",
    "\n",
    "def probab(A,B,C):\n",
    "    print(\"P(A): %s\" %(A))\n",
    "    print(\"P(B): %s\" %(B))\n",
    "    print(\"P(C): %s\" %(C))\n",
    "    cond_probab=(C*B)/A\n",
    "    return cond_probab\n",
    "\n",
    "probab(11.0/36,6.0/36,2.0/36)"
   ]
  },
  {
   "cell_type": "code",
   "execution_count": 3,
   "metadata": {},
   "outputs": [
    {
     "name": "stdout",
     "output_type": "stream",
     "text": [
      "0.5833333333333334\n"
     ]
    }
   ],
   "source": [
    "#Question 2\n",
    "\n",
    "#Bag 1 With 4 white and 6 black balls\n",
    "#Bag 2 with 4 white and 3 black balls\n",
    "Bag1=1.0/2 #probability of selecting Bag1\n",
    "Bag2=1.0/2 #probability of selecting Bag2\n",
    "Black1=6.0/10 #probability of selecting Black from Bag1\n",
    "Black2=3.0/7 #probability of selecting Black from Bag2\n",
    "probab1=(Bag1*Black1)/((Bag1*Black1)+(Bag2*Black2))\n",
    "print(probab1)\n"
   ]
  },
  {
   "cell_type": "code",
   "execution_count": 5,
   "metadata": {},
   "outputs": [
    {
     "name": "stdout",
     "output_type": "stream",
     "text": [
      "0.2857142857142857\n"
     ]
    }
   ],
   "source": [
    "#Question 3\n",
    "\n",
    "truth=2.0/3\n",
    "lie=1.0/3\n",
    "\n",
    "gtng4=1.0/6\n",
    "ngtng4=5.0/6\n",
    "probab = (truth*gtng4)/((truth*gtng4)+(lie*ngtng4))\n",
    "print(probab)"
   ]
  },
  {
   "cell_type": "code",
   "execution_count": null,
   "metadata": {},
   "outputs": [],
   "source": []
  }
 ],
 "metadata": {
  "kernelspec": {
   "display_name": "Python 3",
   "language": "python",
   "name": "python3"
  },
  "language_info": {
   "codemirror_mode": {
    "name": "ipython",
    "version": 3
   },
   "file_extension": ".py",
   "mimetype": "text/x-python",
   "name": "python",
   "nbconvert_exporter": "python",
   "pygments_lexer": "ipython3",
   "version": "3.6.4"
  }
 },
 "nbformat": 4,
 "nbformat_minor": 2
}
